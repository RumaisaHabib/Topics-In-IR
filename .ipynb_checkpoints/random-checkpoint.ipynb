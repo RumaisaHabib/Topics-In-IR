{
 "cells": [
  {
   "cell_type": "code",
   "execution_count": 1,
   "id": "d492f5b5",
   "metadata": {},
   "outputs": [],
   "source": [
    "import pandas as pd\n",
    "import numpy as np\n",
    "import os\n",
    "import subprocess\n",
    "import random"
   ]
  },
  {
   "cell_type": "code",
   "execution_count": null,
   "id": "10ec5e61",
   "metadata": {},
   "outputs": [
    {
     "name": "stdout",
     "output_type": "stream",
     "text": [
      "0\n"
     ]
    }
   ],
   "source": [
    "for i in range(1000):\n",
    "    a = str(random.uniform(0.0, 0.1))\n",
    "    b = str(random.uniform(0.0, 0.1))\n",
    "    c = str(random.uniform(0.0, 0.1))\n",
    "    d = str(random.uniform(0.0, 0.1))\n",
    "    os.system(\"rm -r www.daraz.pk\")\n",
    "    with open(os.devnull, 'wb') as devnull:\n",
    "        try:\n",
    "            command = f\"bash affordability_report https://www.daraz.pk 0.80 {a} {b} {c} {d}\".split()\n",
    "            print(i)\n",
    "            subprocess.check_call(command, stdout=devnull, stderr=subprocess.STDOUT)\n",
    "        except:\n",
    "            pass"
   ]
  },
  {
   "cell_type": "code",
   "execution_count": null,
   "id": "b51910db",
   "metadata": {},
   "outputs": [],
   "source": []
  }
 ],
 "metadata": {
  "kernelspec": {
   "display_name": "Python 3 (ipykernel)",
   "language": "python",
   "name": "python3"
  },
  "language_info": {
   "codemirror_mode": {
    "name": "ipython",
    "version": 3
   },
   "file_extension": ".py",
   "mimetype": "text/x-python",
   "name": "python",
   "nbconvert_exporter": "python",
   "pygments_lexer": "ipython3",
   "version": "3.8.10"
  }
 },
 "nbformat": 4,
 "nbformat_minor": 5
}
