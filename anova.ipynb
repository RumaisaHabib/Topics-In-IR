{
 "cells": [
  {
   "cell_type": "code",
   "execution_count": 54,
   "id": "6ea1b024-ba31-43ad-a3a8-efa66cb4589b",
   "metadata": {},
   "outputs": [],
   "source": [
    "import os\n",
    "import numpy as np\n",
    "import pandas as pd\n",
    "from sklearn.linear_model import LogisticRegression\n",
    "from sklearn.neural_network import MLPClassifier\n",
    "from sklearn.preprocessing import normalize\n",
    "from sklearn.model_selection import train_test_split\n",
    "from sklearn.metrics import confusion_matrix\n",
    "import seaborn as sns\n",
    "import matplotlib.pyplot as plt"
   ]
  },
  {
   "cell_type": "markdown",
   "id": "8df28755-843e-43b5-8a85-7ccdcf359808",
   "metadata": {
    "tags": []
   },
   "source": [
    "# Utilities"
   ]
  },
  {
   "cell_type": "code",
   "execution_count": 55,
   "id": "b94d1712-ef85-421e-8d5b-34b0643c6278",
   "metadata": {},
   "outputs": [],
   "source": [
    "def convert_to_array(string):\n",
    "    string = string.replace(\"\\n\", \"\").replace(\"[\", \"\").replace(\"]\", \"\").replace(\" \", \"\").split(\",\")\n",
    "    result = []\n",
    "    for item in string:\n",
    "        result.append(float(item))\n",
    "    return np.array(result)"
   ]
  },
  {
   "cell_type": "markdown",
   "id": "1be7f6ba-8ebc-418f-b028-e5ab7de5d8d1",
   "metadata": {},
   "source": [
    "# Data Processing"
   ]
  },
  {
   "cell_type": "code",
   "execution_count": 56,
   "id": "9db24c39-ee36-4c81-8342-c0d1d4863f31",
   "metadata": {},
   "outputs": [
    {
     "data": {
      "text/plain": [
       "(116, 7)"
      ]
     },
     "execution_count": 56,
     "metadata": {},
     "output_type": "execute_result"
    }
   ],
   "source": [
    "data = pd.read_csv('www.daraz.pk_QSS_test.csv', index_col=0)\n",
    "data.shape"
   ]
  },
  {
   "cell_type": "code",
   "execution_count": 57,
   "id": "82b31d7d-3ab8-4dfa-8806-61032d3f15b5",
   "metadata": {},
   "outputs": [
    {
     "data": {
      "text/html": [
       "<div>\n",
       "<style scoped>\n",
       "    .dataframe tbody tr th:only-of-type {\n",
       "        vertical-align: middle;\n",
       "    }\n",
       "\n",
       "    .dataframe tbody tr th {\n",
       "        vertical-align: top;\n",
       "    }\n",
       "\n",
       "    .dataframe thead th {\n",
       "        text-align: right;\n",
       "    }\n",
       "</style>\n",
       "<table border=\"1\" class=\"dataframe\">\n",
       "  <thead>\n",
       "    <tr style=\"text-align: right;\">\n",
       "      <th></th>\n",
       "      <th>IAS</th>\n",
       "      <th>Area</th>\n",
       "      <th>Location</th>\n",
       "      <th>Original Size</th>\n",
       "      <th>QSS</th>\n",
       "      <th>SSIM</th>\n",
       "      <th>Our QSS</th>\n",
       "    </tr>\n",
       "  </thead>\n",
       "  <tbody>\n",
       "    <tr>\n",
       "      <th>0</th>\n",
       "      <td>0.000000</td>\n",
       "      <td>0.000000</td>\n",
       "      <td>0.000000</td>\n",
       "      <td>1.000000</td>\n",
       "      <td>0.148404</td>\n",
       "      <td>0.979342</td>\n",
       "      <td>0.678937</td>\n",
       "    </tr>\n",
       "    <tr>\n",
       "      <th>1</th>\n",
       "      <td>0.004267</td>\n",
       "      <td>0.060133</td>\n",
       "      <td>0.090078</td>\n",
       "      <td>0.075688</td>\n",
       "      <td>0.888894</td>\n",
       "      <td>0.964972</td>\n",
       "      <td>0.867453</td>\n",
       "    </tr>\n",
       "    <tr>\n",
       "      <th>2</th>\n",
       "      <td>0.085885</td>\n",
       "      <td>0.079689</td>\n",
       "      <td>0.030037</td>\n",
       "      <td>0.053229</td>\n",
       "      <td>0.837187</td>\n",
       "      <td>0.956480</td>\n",
       "      <td>0.756570</td>\n",
       "    </tr>\n",
       "    <tr>\n",
       "      <th>3</th>\n",
       "      <td>0.035456</td>\n",
       "      <td>0.039089</td>\n",
       "      <td>0.072917</td>\n",
       "      <td>0.023284</td>\n",
       "      <td>0.900520</td>\n",
       "      <td>0.979913</td>\n",
       "      <td>0.578056</td>\n",
       "    </tr>\n",
       "    <tr>\n",
       "      <th>4</th>\n",
       "      <td>0.090257</td>\n",
       "      <td>0.088336</td>\n",
       "      <td>0.042452</td>\n",
       "      <td>0.059833</td>\n",
       "      <td>0.863981</td>\n",
       "      <td>0.983492</td>\n",
       "      <td>0.689766</td>\n",
       "    </tr>\n",
       "  </tbody>\n",
       "</table>\n",
       "</div>"
      ],
      "text/plain": [
       "        IAS      Area  Location  Original Size       QSS      SSIM   Our QSS\n",
       "0  0.000000  0.000000  0.000000       1.000000  0.148404  0.979342  0.678937\n",
       "1  0.004267  0.060133  0.090078       0.075688  0.888894  0.964972  0.867453\n",
       "2  0.085885  0.079689  0.030037       0.053229  0.837187  0.956480  0.756570\n",
       "3  0.035456  0.039089  0.072917       0.023284  0.900520  0.979913  0.578056\n",
       "4  0.090257  0.088336  0.042452       0.059833  0.863981  0.983492  0.689766"
      ]
     },
     "execution_count": 57,
     "metadata": {},
     "output_type": "execute_result"
    }
   ],
   "source": [
    "data.head()"
   ]
  },
  {
   "cell_type": "code",
   "execution_count": 58,
   "id": "33f1fd46-b0f0-4466-9e81-efed14942a81",
   "metadata": {},
   "outputs": [],
   "source": [
    "for i, r in data.iterrows():\n",
    "    if r[\"Our QSS\"] > 0.75:\n",
    "        data.loc[i, \"Threshold\"] = \">0.75\"\n",
    "    elif r[\"Our QSS\"] > 0.5:\n",
    "        data.loc[i, \"Threshold\"] = \">0.5 & <0.75\"\n",
    "    elif r[\"Our QSS\"] > 0.25:\n",
    "        data.loc[i, \"Threshold\"] = \">0.25 & <0.5\"\n",
    "    elif r[\"Our QSS\"] < 0.25:\n",
    "        data.loc[i, \"Threshold\"] = \"<0.25\""
   ]
  },
  {
   "cell_type": "code",
   "execution_count": 59,
   "id": "6a871dff-a5bb-4ae5-9731-d38461949309",
   "metadata": {},
   "outputs": [
    {
     "data": {
      "text/html": [
       "<div>\n",
       "<style scoped>\n",
       "    .dataframe tbody tr th:only-of-type {\n",
       "        vertical-align: middle;\n",
       "    }\n",
       "\n",
       "    .dataframe tbody tr th {\n",
       "        vertical-align: top;\n",
       "    }\n",
       "\n",
       "    .dataframe thead th {\n",
       "        text-align: right;\n",
       "    }\n",
       "</style>\n",
       "<table border=\"1\" class=\"dataframe\">\n",
       "  <thead>\n",
       "    <tr style=\"text-align: right;\">\n",
       "      <th></th>\n",
       "      <th>IAS</th>\n",
       "      <th>Area</th>\n",
       "      <th>Location</th>\n",
       "      <th>Original Size</th>\n",
       "      <th>QSS</th>\n",
       "      <th>SSIM</th>\n",
       "      <th>Our QSS</th>\n",
       "      <th>Threshold</th>\n",
       "    </tr>\n",
       "  </thead>\n",
       "  <tbody>\n",
       "    <tr>\n",
       "      <th>0</th>\n",
       "      <td>0.000000</td>\n",
       "      <td>0.000000</td>\n",
       "      <td>0.000000</td>\n",
       "      <td>1.000000</td>\n",
       "      <td>0.148404</td>\n",
       "      <td>0.979342</td>\n",
       "      <td>0.678937</td>\n",
       "      <td>&gt;0.5 &amp; &lt;0.75</td>\n",
       "    </tr>\n",
       "    <tr>\n",
       "      <th>1</th>\n",
       "      <td>0.004267</td>\n",
       "      <td>0.060133</td>\n",
       "      <td>0.090078</td>\n",
       "      <td>0.075688</td>\n",
       "      <td>0.888894</td>\n",
       "      <td>0.964972</td>\n",
       "      <td>0.867453</td>\n",
       "      <td>&gt;0.75</td>\n",
       "    </tr>\n",
       "    <tr>\n",
       "      <th>2</th>\n",
       "      <td>0.085885</td>\n",
       "      <td>0.079689</td>\n",
       "      <td>0.030037</td>\n",
       "      <td>0.053229</td>\n",
       "      <td>0.837187</td>\n",
       "      <td>0.956480</td>\n",
       "      <td>0.756570</td>\n",
       "      <td>&gt;0.75</td>\n",
       "    </tr>\n",
       "    <tr>\n",
       "      <th>3</th>\n",
       "      <td>0.035456</td>\n",
       "      <td>0.039089</td>\n",
       "      <td>0.072917</td>\n",
       "      <td>0.023284</td>\n",
       "      <td>0.900520</td>\n",
       "      <td>0.979913</td>\n",
       "      <td>0.578056</td>\n",
       "      <td>&gt;0.5 &amp; &lt;0.75</td>\n",
       "    </tr>\n",
       "    <tr>\n",
       "      <th>4</th>\n",
       "      <td>0.090257</td>\n",
       "      <td>0.088336</td>\n",
       "      <td>0.042452</td>\n",
       "      <td>0.059833</td>\n",
       "      <td>0.863981</td>\n",
       "      <td>0.983492</td>\n",
       "      <td>0.689766</td>\n",
       "      <td>&gt;0.5 &amp; &lt;0.75</td>\n",
       "    </tr>\n",
       "  </tbody>\n",
       "</table>\n",
       "</div>"
      ],
      "text/plain": [
       "        IAS      Area  Location  Original Size       QSS      SSIM   Our QSS  \\\n",
       "0  0.000000  0.000000  0.000000       1.000000  0.148404  0.979342  0.678937   \n",
       "1  0.004267  0.060133  0.090078       0.075688  0.888894  0.964972  0.867453   \n",
       "2  0.085885  0.079689  0.030037       0.053229  0.837187  0.956480  0.756570   \n",
       "3  0.035456  0.039089  0.072917       0.023284  0.900520  0.979913  0.578056   \n",
       "4  0.090257  0.088336  0.042452       0.059833  0.863981  0.983492  0.689766   \n",
       "\n",
       "      Threshold  \n",
       "0  >0.5 & <0.75  \n",
       "1         >0.75  \n",
       "2         >0.75  \n",
       "3  >0.5 & <0.75  \n",
       "4  >0.5 & <0.75  "
      ]
     },
     "execution_count": 59,
     "metadata": {},
     "output_type": "execute_result"
    }
   ],
   "source": [
    "data.head()"
   ]
  },
  {
   "cell_type": "code",
   "execution_count": 60,
   "id": "429b5b7f-b789-41e8-97ac-838eb59092ad",
   "metadata": {},
   "outputs": [],
   "source": [
    "# for i in range(4):\n",
    "#     data.iloc[:, i] = data.iloc[:, i].apply(lambda x: convert_to_array(x).mean())\n",
    "# data.head()"
   ]
  },
  {
   "cell_type": "code",
   "execution_count": 61,
   "id": "2374fa1b-47f6-4eb9-9466-dd0843032f2b",
   "metadata": {},
   "outputs": [
    {
     "data": {
      "text/plain": [
       ">0.5 & <0.75    52\n",
       ">0.75           48\n",
       ">0.25 & <0.5    14\n",
       "<0.25            2\n",
       "Name: Threshold, dtype: int64"
      ]
     },
     "execution_count": 61,
     "metadata": {},
     "output_type": "execute_result"
    }
   ],
   "source": [
    "data[\"Threshold\"].value_counts()"
   ]
  },
  {
   "cell_type": "code",
   "execution_count": 62,
   "id": "6a46b680-b5ba-4ca1-afdd-918b8ebde4bd",
   "metadata": {},
   "outputs": [],
   "source": [
    "a = data[data['Threshold'] == \">0.75\"].iloc[:,:4]\n",
    "b = data[data['Threshold'] == \">0.5 & <0.75\"].iloc[:,:4]\n",
    "c = data[data['Threshold'] == \">0.25 & <0.5\"].iloc[:,:4]\n",
    "d = data[data['Threshold'] == \"<0.25\"].iloc[:,:4]"
   ]
  },
  {
   "cell_type": "code",
   "execution_count": 63,
   "id": "73129d3b",
   "metadata": {},
   "outputs": [
    {
     "data": {
      "text/html": [
       "<div>\n",
       "<style scoped>\n",
       "    .dataframe tbody tr th:only-of-type {\n",
       "        vertical-align: middle;\n",
       "    }\n",
       "\n",
       "    .dataframe tbody tr th {\n",
       "        vertical-align: top;\n",
       "    }\n",
       "\n",
       "    .dataframe thead th {\n",
       "        text-align: right;\n",
       "    }\n",
       "</style>\n",
       "<table border=\"1\" class=\"dataframe\">\n",
       "  <thead>\n",
       "    <tr style=\"text-align: right;\">\n",
       "      <th></th>\n",
       "      <th>IAS</th>\n",
       "      <th>Area</th>\n",
       "      <th>Location</th>\n",
       "      <th>Original Size</th>\n",
       "    </tr>\n",
       "  </thead>\n",
       "  <tbody>\n",
       "    <tr>\n",
       "      <th>1</th>\n",
       "      <td>0.004267</td>\n",
       "      <td>0.060133</td>\n",
       "      <td>0.090078</td>\n",
       "      <td>0.075688</td>\n",
       "    </tr>\n",
       "    <tr>\n",
       "      <th>2</th>\n",
       "      <td>0.085885</td>\n",
       "      <td>0.079689</td>\n",
       "      <td>0.030037</td>\n",
       "      <td>0.053229</td>\n",
       "    </tr>\n",
       "    <tr>\n",
       "      <th>8</th>\n",
       "      <td>0.069805</td>\n",
       "      <td>0.039005</td>\n",
       "      <td>0.052544</td>\n",
       "      <td>0.014096</td>\n",
       "    </tr>\n",
       "    <tr>\n",
       "      <th>10</th>\n",
       "      <td>0.004444</td>\n",
       "      <td>0.035960</td>\n",
       "      <td>0.053911</td>\n",
       "      <td>0.003629</td>\n",
       "    </tr>\n",
       "    <tr>\n",
       "      <th>11</th>\n",
       "      <td>0.052446</td>\n",
       "      <td>0.078595</td>\n",
       "      <td>0.005585</td>\n",
       "      <td>0.034377</td>\n",
       "    </tr>\n",
       "  </tbody>\n",
       "</table>\n",
       "</div>"
      ],
      "text/plain": [
       "         IAS      Area  Location  Original Size\n",
       "1   0.004267  0.060133  0.090078       0.075688\n",
       "2   0.085885  0.079689  0.030037       0.053229\n",
       "8   0.069805  0.039005  0.052544       0.014096\n",
       "10  0.004444  0.035960  0.053911       0.003629\n",
       "11  0.052446  0.078595  0.005585       0.034377"
      ]
     },
     "execution_count": 63,
     "metadata": {},
     "output_type": "execute_result"
    }
   ],
   "source": [
    "a.head()"
   ]
  },
  {
   "cell_type": "code",
   "execution_count": 64,
   "id": "2f7058c8-a972-4c0f-b78f-c2591a78f09b",
   "metadata": {},
   "outputs": [],
   "source": [
    "# valid_features = valid.iloc[:, [0, 5, 6, 7, 8, 9, 10, 11, 12]]\n",
    "# invalid_features = invalid.iloc[:, [0, 5, 6, 7, 8, 9, 10, 11, 12]]"
   ]
  },
  {
   "cell_type": "code",
   "execution_count": 65,
   "id": "c3460500-3a1a-46f7-9fe3-a8f8d44a02a6",
   "metadata": {},
   "outputs": [],
   "source": [
    "acol = []\n",
    "bcol = []\n",
    "ccol = []\n",
    "dcol = []\n",
    "columns = []\n",
    "for i in range(4):\n",
    "    temp = a.iloc[:, i].to_numpy()\n",
    "    temp = temp/max(temp)\n",
    "    acol.append(temp)\n",
    "    \n",
    "    temp = b.iloc[:, i].to_numpy()\n",
    "    temp = temp/max(temp)\n",
    "    bcol.append(temp)\n",
    "    \n",
    "    temp = c.iloc[:, i].to_numpy()\n",
    "    temp = temp/max(temp)\n",
    "    ccol.append(temp)\n",
    "    \n",
    "    temp = d.iloc[:, i].to_numpy()\n",
    "    temp = temp/max(temp)\n",
    "    dcol.append(temp)"
   ]
  },
  {
   "cell_type": "code",
   "execution_count": 66,
   "id": "43db1afb-d4d8-4b8d-8e5b-0eddce296b78",
   "metadata": {},
   "outputs": [
    {
     "data": {
      "image/png": "[encoded data removed]",
      "text/plain": [
       "<Figure size 1440x648 with 1 Axes>"
      ]
     },
     "metadata": {
      "needs_background": "light"
     },
     "output_type": "display_data"
    }
   ],
   "source": [
    "plt.figure(figsize=(20, 9))\n",
    "bp0 = plt.boxplot(acol, showfliers=False, patch_artist=True)\n",
    "bp1 = plt.boxplot(bcol, showfliers=False, patch_artist=True)\n",
    "bp2 = plt.boxplot(ccol, showfliers=False, patch_artist=True)\n",
    "# bp3 = plt.boxplot(dcol, showfliers=False, patch_artist=True)\n",
    "for box in bp0['boxes']:\n",
    "    box.set(color='blue', linewidth=8)\n",
    "    box.set(facecolor=(0,0,0,0), alpha=None)\n",
    "for box in bp1['boxes']:\n",
    "    box.set(color='red', linewidth=5)\n",
    "    box.set(facecolor=(0,0,0,0), alpha=None)\n",
    "for box in bp2['boxes']:\n",
    "    box.set(color='green', linewidth=3)\n",
    "    box.set(facecolor=(0,0,0,0), alpha=None)\n",
    "# for box in bp3['boxes']:\n",
    "#     box.set(color='yellow', linewidth=1)\n",
    "#     box.set(facecolor=(0,0,0,0), alpha=None)\n",
    "plt.legend([bp0['boxes'][0], bp1['boxes'][0],bp2['boxes'][0]], ['>0.75', '>0.5 & <0.75', '>0.25 & <0.5'], loc='upper left')\n",
    "plt.xticks([1,  2,  3,  4], \n",
    "           [\"IAS\",\"Area\",\"Location\",\"Original Size\"])\n",
    "plt.show()"
   ]
  },
  {
   "cell_type": "code",
   "execution_count": 14,
   "id": "7f11ab98-80a3-4707-b86f-4a3369b0072f",
   "metadata": {},
   "outputs": [
    {
     "ename": "NameError",
     "evalue": "name 'valid_features' is not defined",
     "output_type": "error",
     "traceback": [
      "\u001b[0;31m---------------------------------------------------------------------------\u001b[0m",
      "\u001b[0;31mNameError\u001b[0m                                 Traceback (most recent call last)",
      "Input \u001b[0;32mIn [14]\u001b[0m, in \u001b[0;36m<cell line: 1>\u001b[0;34m()\u001b[0m\n\u001b[0;32m----> 1\u001b[0m vf \u001b[38;5;241m=\u001b[39m \u001b[43mvalid_features\u001b[49m\u001b[38;5;241m.\u001b[39miloc[:, [\u001b[38;5;241m2\u001b[39m, \u001b[38;5;241m3\u001b[39m, \u001b[38;5;241m5\u001b[39m]]\n\u001b[1;32m      2\u001b[0m invf \u001b[38;5;241m=\u001b[39m invalid_features\u001b[38;5;241m.\u001b[39miloc[:, [\u001b[38;5;241m2\u001b[39m, \u001b[38;5;241m3\u001b[39m, \u001b[38;5;241m5\u001b[39m]]\n\u001b[1;32m      3\u001b[0m \u001b[38;5;28mprint\u001b[39m(\u001b[38;5;28mlen\u001b[39m(vf))\n",
      "\u001b[0;31mNameError\u001b[0m: name 'valid_features' is not defined"
     ]
    }
   ],
   "source": [
    "vf = valid_features.iloc[:, [2, 3, 5]]\n",
    "invf = invalid_features.iloc[:, [2, 3, 5]]\n",
    "print(len(vf))\n",
    "print(len(invf))"
   ]
  },
  {
   "cell_type": "code",
   "execution_count": null,
   "id": "33aaf1f1-4302-464e-9ea9-cc86af8c45ef",
   "metadata": {},
   "outputs": [],
   "source": [
    "def remove_outliers(data):\n",
    "    df = data\n",
    "    # Select the first quantile\n",
    "    for i in df.columns:\n",
    "        Q1 = df[i].quantile(0.25)\n",
    "        Q3 = df[i].quantile(0.75)\n",
    "        IQR = Q3 - Q1\n",
    "\n",
    "        # Filtering Values between Q1-1.5IQR and Q3+1.5IQR\n",
    "        df = df.query(f'(@Q1 - 1.5 * @IQR) <= {i} <= (@Q3 + 1.5 * @IQR)')\n",
    "    return df"
   ]
  },
  {
   "cell_type": "code",
   "execution_count": null,
   "id": "7f6d263f-434b-4e8f-8cfe-268c9f965505",
   "metadata": {},
   "outputs": [],
   "source": [
    "vf = remove_outliers(vf)\n",
    "invf = remove_outliers(invf)\n",
    "print(len(vf))\n",
    "print(len(invf))"
   ]
  },
  {
   "cell_type": "code",
   "execution_count": null,
   "id": "f4009ec4-8169-40f4-b8c1-90cce1bc06f6",
   "metadata": {},
   "outputs": [],
   "source": [
    "vf = vf.sample(n=2288)"
   ]
  },
  {
   "cell_type": "code",
   "execution_count": null,
   "id": "1b90d725-4cb9-4008-8468-f1033bbbe93c",
   "metadata": {},
   "outputs": [],
   "source": [
    "print(len(vf))\n",
    "print(len(invf))"
   ]
  },
  {
   "cell_type": "code",
   "execution_count": null,
   "id": "cfb1f85f-01a9-47e5-8e8d-215e2551fc98",
   "metadata": {},
   "outputs": [],
   "source": []
  }
 ],
 "metadata": {
  "kernelspec": {
   "display_name": "Python 3 (ipykernel)",
   "language": "python",
   "name": "python3"
  },
  "language_info": {
   "codemirror_mode": {
    "name": "ipython",
    "version": 3
   },
   "file_extension": ".py",
   "mimetype": "text/x-python",
   "name": "python",
   "nbconvert_exporter": "python",
   "pygments_lexer": "ipython3",
   "version": "3.8.10"
  }
 },
 "nbformat": 4,
 "nbformat_minor": 5
}
